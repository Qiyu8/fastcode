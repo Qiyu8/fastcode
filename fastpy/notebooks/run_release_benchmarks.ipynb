{
 "cells": [
  {
   "cell_type": "code",
   "execution_count": null,
   "metadata": {},
   "outputs": [],
   "source": [
    "%load_ext autoreload\n",
    "%autoreload 2\n",
    "\n",
    "import os\n",
    "from pprint import pprint\n",
    "import matplotlib\n",
    "%matplotlib inline\n",
    "\n",
    "from context import fastpy\n",
    "from common import PROJECT_ROOT_PATH\n",
    "from fastpy.evaluation import plotting\n",
    "from fastpy.run.Runner import MultiBenchmarkRunner\n"
   ]
  },
  {
   "cell_type": "markdown",
   "metadata": {},
   "source": [
    "# Run benchmarks\n",
    "Alongside with the python script in the fastPy root, this notebook can run issue benchmark runs."
   ]
  },
  {
   "cell_type": "markdown",
   "metadata": {},
   "source": [
    "## Multiple-release benchmark runs"
   ]
  },
  {
   "cell_type": "code",
   "execution_count": null,
   "metadata": {},
   "outputs": [],
   "source": [
    "multi_bench_runner = MultiBenchmarkRunner(config_path=os.path.join(os.path.join(PROJECT_ROOT_PATH, 'config.json')))\n",
    "tag_run_name_dict = multi_bench_runner.perform_runs(force_compile=False)\n",
    "pprint(tag_run_name_dict)"
   ]
  },
  {
   "cell_type": "markdown",
   "metadata": {},
   "source": [
    "### Evaluation"
   ]
  },
  {
   "cell_type": "code",
   "execution_count": null,
   "metadata": {
    "scrolled": false
   },
   "outputs": [],
   "source": [
    "out_parser_dict = plotting.prepare_multiple_out_parsers(tag_run_name_dict)\n",
    "COLOR_MAP = 'rainbow_r'\n",
    "plotting.mult_plot_runtime_performance(out_parser_dict, plot_type='performance', colormap=COLOR_MAP, reverse_legend=True)\n",
    "plotting.mult_plot_runtime_performance(out_parser_dict, plot_type='mean_runtime', colormap=COLOR_MAP, reverse_legend=False)"
   ]
  },
  {
   "cell_type": "markdown",
   "metadata": {},
   "source": [
    "### step by step evaluation"
   ]
  },
  {
   "cell_type": "code",
   "execution_count": null,
   "metadata": {},
   "outputs": [],
   "source": [
    "run_dict = { 'base single': 'run_2019-05-24_15-12-21-056460',\n",
    "             'base double': 'run_2019-05-24_15-13-58-689845',\n",
    "             'pso0.0.1': 'run_2019-05-24_15-15-20-457341',\n",
    "             'pso0.0.2': 'run_2019-05-24_15-15-50-293117',\n",
    "             'pso0.0.3': 'run_2019-05-24_15-16-21-367792',\n",
    "             'pso0.0.4': 'run_2019-05-24_15-16-52-303988',\n",
    "             'pso0.0.5': 'run_2019-05-24_15-17-24-058790',\n",
    "             'pso0.0.6': 'run_2019-05-24_15-17-56-959555',\n",
    "             'pso0.0.7': 'run_2019-05-24_15-18-23-160848',\n",
    "             'pso0.0.8': 'run_2019-05-24_15-18-50-713224',\n",
    "             'pso0.0.9': 'run_2019-05-24_15-18-55-517684'\n",
    "             }\n",
    "out_parser_dict = plotting.prepare_multiple_out_parsers(run_dict)\n",
    "\n",
    "COLOR_MAP = 'rainbow_r'\n",
    "plotting.mult_plot_runtime_performance(out_parser_dict, plot_type='performance', colormap=COLOR_MAP, \n",
    "                                       reverse_legend=True, y_upper_lim = 7.2, vmax=10)\n"
   ]
  },
  {
   "cell_type": "code",
   "execution_count": null,
   "metadata": {},
   "outputs": [],
   "source": []
  }
 ],
 "metadata": {
  "kernelspec": {
   "display_name": "fastpy",
   "language": "python",
   "name": "fastpy"
  },
  "language_info": {
   "codemirror_mode": {
    "name": "ipython",
    "version": 3
   },
   "file_extension": ".py",
   "mimetype": "text/x-python",
   "name": "python",
   "nbconvert_exporter": "python",
   "pygments_lexer": "ipython3",
   "version": "3.7.0"
  }
 },
 "nbformat": 4,
 "nbformat_minor": 2
}
