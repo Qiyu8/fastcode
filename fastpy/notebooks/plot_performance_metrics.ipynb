{
 "cells": [
  {
   "cell_type": "code",
   "execution_count": null,
   "metadata": {},
   "outputs": [],
   "source": [
    "%load_ext autoreload\n",
    "%autoreload 2\n",
    "%matplotlib inline\n",
    "import mpld3\n",
    "#mpld3.enable_notebook()  # uncomment for zooming capabilities\n",
    "\n",
    "from pprint import pprint\n",
    "\n",
    "from context import fastpy\n",
    "from fastpy.io.output_loader import OutputParser\n",
    "from fastpy.evaluation import performance_calculations\n",
    "from fastpy.evaluation import plotting\n",
    "\n",
    "from typing import List, Dict"
   ]
  },
  {
   "cell_type": "code",
   "execution_count": null,
   "metadata": {
    "scrolled": false
   },
   "outputs": [],
   "source": [
    "output_parser = OutputParser(use_most_recent=True)\n",
    "perf_metrics = performance_calculations.performance_metrics(output_parser)\n"
   ]
  },
  {
   "cell_type": "code",
   "execution_count": null,
   "metadata": {},
   "outputs": [],
   "source": [
    "# This is how a performance metrics dict looks like.\n",
    "list(perf_metrics.values())[0]"
   ]
  },
  {
   "cell_type": "code",
   "execution_count": null,
   "metadata": {},
   "outputs": [],
   "source": [
    "_ = plotting.plot_perf_metric_vs_config_val(perf_metrics, x_key='population', y_key='op_intensity')"
   ]
  },
  {
   "cell_type": "code",
   "execution_count": null,
   "metadata": {},
   "outputs": [],
   "source": [
    "plotting.plot_multiple_perf_metric_vs_config_val(perf_metrics, x_key='population', y_keys=['performance',\n",
    "                                                                                           'op_intensity'])"
   ]
  },
  {
   "cell_type": "code",
   "execution_count": null,
   "metadata": {},
   "outputs": [],
   "source": [
    "plotting.plot_multiple_perf_metric_vs_config_val(perf_metrics, x_key='population', y_keys=['mem_move_bytes',\n",
    "                                                                                           'flop_count'])"
   ]
  },
  {
   "cell_type": "code",
   "execution_count": null,
   "metadata": {},
   "outputs": [],
   "source": [
    "plotting.perf_in_roofline_plot(perf_metrics, label='bla', color='green')"
   ]
  },
  {
   "cell_type": "code",
   "execution_count": null,
   "metadata": {},
   "outputs": [],
   "source": [
    "run_dict = {'baseline PSO': 'run_2019-05-24_17-03-27-242756'}\n",
    "multiple_perf_metrics = plotting.prepare_multiple_perf_metrics(run_dict)\n",
    "plotting.multiple_perf_in_roofline_plot(multiple_perf_metrics, reverse_legend=True, colormap='rainbow_r')"
   ]
  },
  {
   "cell_type": "code",
   "execution_count": null,
   "metadata": {},
   "outputs": [],
   "source": [
    "run_dict = {'base': 'run_2019-05-24_15-12-21-056460',\n",
    " 'doubles': 'run_2019-05-24_15-13-58-689845',\n",
    " 'pso0.0.1': 'run_2019-05-24_15-15-20-457341',\n",
    " 'pso0.0.2': 'run_2019-05-24_15-15-50-293117',\n",
    " 'pso0.0.3': 'run_2019-05-24_15-16-21-367792',\n",
    " 'pso0.0.4': 'run_2019-05-24_15-16-52-303988',\n",
    " 'pso0.0.5': 'run_2019-05-24_15-17-24-058790',\n",
    " 'pso0.0.6': 'run_2019-05-24_15-17-56-959555',\n",
    " 'pso0.0.7': 'run_2019-05-24_15-18-23-160848',\n",
    " 'pso0.0.8': 'run_2019-05-24_15-18-50-713224',\n",
    " 'pso0.0.9': 'run_2019-05-24_15-18-55-517684'}\n",
    "multiple_perf_metrics = plotting.prepare_multiple_perf_metrics(run_dict)\n",
    "plotting.multiple_perf_in_roofline_plot(multiple_perf_metrics, reverse_legend=True, colormap='jet_r')"
   ]
  },
  {
   "cell_type": "code",
   "execution_count": null,
   "metadata": {},
   "outputs": [],
   "source": []
  }
 ],
 "metadata": {
  "kernelspec": {
   "display_name": "fastpy",
   "language": "python",
   "name": "fastpy"
  },
  "language_info": {
   "codemirror_mode": {
    "name": "ipython",
    "version": 3
   },
   "file_extension": ".py",
   "mimetype": "text/x-python",
   "name": "python",
   "nbconvert_exporter": "python",
   "pygments_lexer": "ipython3",
   "version": "3.7.0"
  }
 },
 "nbformat": 4,
 "nbformat_minor": 2
}
